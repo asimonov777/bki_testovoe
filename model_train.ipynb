{
 "cells": [
  {
   "cell_type": "code",
   "execution_count": 2,
   "metadata": {},
   "outputs": [],
   "source": [
    "from sasha_tools import *\n",
    "import pandas as pd\n",
    "import numpy as np\n",
    "import warnings\n",
    "warnings.filterwarnings('ignore')\n",
    "\n",
    "from sklearn.linear_model import LogisticRegression"
   ]
  },
  {
   "cell_type": "code",
   "execution_count": 13,
   "metadata": {},
   "outputs": [],
   "source": [
    "df_text = pd.read_csv('text_categories.csv')\n",
    "df_catboost = pd.read_csv('cb_score.csv')\n",
    "df_features = pd.read_csv('linear_features.csv')\n",
    "\n",
    "df = df_text.merge(df_catboost, on = 'APPID', how = 'outer').merge(df_features, on = 'APPID', how = 'outer')"
   ]
  },
  {
   "cell_type": "code",
   "execution_count": 14,
   "metadata": {},
   "outputs": [],
   "source": [
    "df['date'] = pd.to_datetime(df['APPDATE'].apply(lambda x : str(x)[:10]), format = '%d.%m.%Y')"
   ]
  },
  {
   "cell_type": "code",
   "execution_count": 19,
   "metadata": {},
   "outputs": [],
   "source": [
    "model = LogisticRegression(penalty='none')\n",
    "train_indx = (df['date'] <= '2022-03-31')"
   ]
  },
  {
   "cell_type": "code",
   "execution_count": 17,
   "metadata": {},
   "outputs": [
    {
     "data": {
      "text/plain": [
       "Index(['APPID', 'iphone_category', 'xiaomi_category', 'other_category',\n",
       "       'cb_score_map', 'APPDATE', 'EMAIL_ftr', 'APP_rank_ftr', 'LIM_ftr',\n",
       "       'LIM_zero_flag', 'daytime_flag', 'TARGET', 'date'],\n",
       "      dtype='object')"
      ]
     },
     "execution_count": 17,
     "metadata": {},
     "output_type": "execute_result"
    }
   ],
   "source": [
    "df.columns"
   ]
  },
  {
   "cell_type": "code",
   "execution_count": 20,
   "metadata": {},
   "outputs": [
    {
     "data": {
      "text/plain": [
       "LogisticRegression(penalty='none')"
      ]
     },
     "execution_count": 20,
     "metadata": {},
     "output_type": "execute_result"
    }
   ],
   "source": [
    "model_columns = ['iphone_category', 'xiaomi_category', 'other_category',\n",
    "                 'cb_score_map', 'EMAIL_ftr', 'APP_rank_ftr', 'LIM_ftr',\n",
    "                 'LIM_zero_flag', 'daytime_flag']\n",
    "\n",
    "model.fit(df.loc[train_indx, model_columns], df.loc[train_indx, 'TARGET'])"
   ]
  },
  {
   "cell_type": "code",
   "execution_count": 25,
   "metadata": {},
   "outputs": [],
   "source": [
    "df['predict'] = model.predict_proba(df[model_columns])[:, 1]"
   ]
  },
  {
   "cell_type": "code",
   "execution_count": 26,
   "metadata": {},
   "outputs": [],
   "source": [
    "df[~train_indx].to_csv('eval_result.csv', index = False)"
   ]
  },
  {
   "cell_type": "code",
   "execution_count": null,
   "metadata": {},
   "outputs": [],
   "source": []
  }
 ],
 "metadata": {
  "kernelspec": {
   "display_name": "base",
   "language": "python",
   "name": "python3"
  },
  "language_info": {
   "codemirror_mode": {
    "name": "ipython",
    "version": 3
   },
   "file_extension": ".py",
   "mimetype": "text/x-python",
   "name": "python",
   "nbconvert_exporter": "python",
   "pygments_lexer": "ipython3",
   "version": "3.9.16"
  },
  "orig_nbformat": 4
 },
 "nbformat": 4,
 "nbformat_minor": 2
}
